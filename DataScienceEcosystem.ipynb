{
 "cells": [
  {
   "cell_type": "markdown",
   "id": "ba91fe7f",
   "metadata": {},
   "source": [
    "# Data Science Tools and Ecosystem"
   ]
  },
  {
   "cell_type": "markdown",
   "id": "f15a0bb1",
   "metadata": {},
   "source": [
    "In this notebook, Data Science Tools and Ecosystem are summarized."
   ]
  },
  {
   "cell_type": "markdown",
   "id": "46e37b48",
   "metadata": {},
   "source": [
    "**Objective**:\n",
    "\n",
    "\n",
    "-Jupyter Notebooks are used in Data Science for recording experiments and projects.\n",
    "\n",
    "-Python,R and SQL are one of the popular language used in Data Science.\n",
    "\n",
    "-Libraries used by data scientists includes;Panda,Numpy,Keras,PyTorch,Seaborn "
   ]
  },
  {
   "cell_type": "markdown",
   "id": "794fd6a7",
   "metadata": {},
   "source": [
    "Some of the popular languages that Data Scientists use are:\n",
    "1. Python\n",
    "2. R\n",
    "3. SQL"
   ]
  },
  {
   "cell_type": "markdown",
   "id": "6240e95f",
   "metadata": {},
   "source": [
    "Some of the commonly used libraries used by Data Scientists include:\n",
    "    \n",
    "    -Panda\n",
    "    -NumPy\n",
    "    -Seaborn"
   ]
  },
  {
   "cell_type": "markdown",
   "id": "cddde662",
   "metadata": {},
   "source": [
    "| Data Science Tools |\n",
    "|------------|\n",
    "| Python     |     \n",
    "|            |\n",
    "| R          |            \n",
    "|            |\n",
    "| Weka       |         \n",
    "                   \n",
    "\n"
   ]
  },
  {
   "cell_type": "markdown",
   "id": "f8dae06f",
   "metadata": {},
   "source": [
    "### Below are a few examples of evaluating arithmetic expressions in Python\n",
    "\n",
    "(5+3)×2"
   ]
  },
  {
   "cell_type": "code",
   "execution_count": 5,
   "id": "91d66df2",
   "metadata": {},
   "outputs": [
    {
     "data": {
      "text/plain": [
       "17"
      ]
     },
     "execution_count": 5,
     "metadata": {},
     "output_type": "execute_result"
    }
   ],
   "source": [
    "(3*4)+5\n",
    "\n",
    "#This a simple arithmetic expression to mutiply then add integers."
   ]
  },
  {
   "cell_type": "code",
   "execution_count": 6,
   "id": "c121b259",
   "metadata": {},
   "outputs": [
    {
     "name": "stdout",
     "output_type": "stream",
     "text": [
      "Enter time in minutes200\n",
      "Hours= 3\n"
     ]
    }
   ],
   "source": [
    "min=int(input(\"Enter time in minutes\"))\n",
    "h=min//60\n",
    "m=min%60\n",
    "print(\"Hours=\",h)\n",
    "\n",
    "# This will convert 200 minutes to hours by diving by 60"
   ]
  },
  {
   "cell_type": "markdown",
   "id": "25397bfe",
   "metadata": {},
   "source": [
    "## Author\n",
    "\n",
    "Makda Tesfaye"
   ]
  },
  {
   "cell_type": "code",
   "execution_count": null,
   "id": "7254cf82",
   "metadata": {},
   "outputs": [],
   "source": []
  }
 ],
 "metadata": {
  "kernelspec": {
   "display_name": "Python 3 (ipykernel)",
   "language": "python",
   "name": "python3"
  },
  "language_info": {
   "codemirror_mode": {
    "name": "ipython",
    "version": 3
   },
   "file_extension": ".py",
   "mimetype": "text/x-python",
   "name": "python",
   "nbconvert_exporter": "python",
   "pygments_lexer": "ipython3",
   "version": "3.11.5"
  }
 },
 "nbformat": 4,
 "nbformat_minor": 5
}
